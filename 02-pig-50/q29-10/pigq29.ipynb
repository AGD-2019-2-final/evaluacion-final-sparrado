{
 "cells": [
  {
   "cell_type": "code",
   "execution_count": 22,
   "metadata": {},
   "outputs": [
    {
     "name": "stdout",
     "output_type": "stream",
     "text": [
      "The bigdata extension is already loaded. To reload it, use:\n",
      "  %reload_ext bigdata\n"
     ]
    }
   ],
   "source": [
    "%load_ext bigdata\n",
    "%pig_start\n",
    "%timeout 300"
   ]
  },
  {
   "cell_type": "code",
   "execution_count": 23,
   "metadata": {},
   "outputs": [
    {
     "name": "stdout",
     "output_type": "stream",
     "text": [
      " fs -rm -f -r output;\n"
     ]
    }
   ],
   "source": [
    "%%pig\n",
    "fs -rm -f -r output;"
   ]
  },
  {
   "cell_type": "code",
   "execution_count": 24,
   "metadata": {},
   "outputs": [
    {
     "name": "stdout",
     "output_type": "stream",
     "text": [
      " u = LOAD 'data.csv' USING PigStorage(',') \n",
      "    AS (id:int, \n",
      "        firstname:CHARARRAY, \n",
      "        surname:CHARARRAY, \n",
      "        birthday:CHARARRAY, \n",
      "        color:CHARARRAY, \n",
      "        quantity:INT);\n"
     ]
    }
   ],
   "source": [
    "%%pig\n",
    "u = LOAD 'data.csv' USING PigStorage(',') \n",
    "    AS (id:int, \n",
    "        firstname:CHARARRAY, \n",
    "        surname:CHARARRAY, \n",
    "        birthday:CHARARRAY, \n",
    "        color:CHARARRAY, \n",
    "        quantity:INT);\n"
   ]
  },
  {
   "cell_type": "code",
   "execution_count": 20,
   "metadata": {},
   "outputs": [
    {
     "name": "stdout",
     "output_type": "stream",
     "text": [
      " file = FOREACH u GENERATE ToDate(birthday,'yyyy-MM-dd') AS fecha;\n",
      " file = FOREACH file GENERATE fecha, \n",
      "    CASE ToString(fecha,'MM')\n",
      "    WHEN '01' THEN 'ene'\n",
      "    WHEN '02' THEN 'feb'\n",
      "    WHEN '03' THEN 'mar'\n",
      "    WHEN '04' THEN 'abr'\n",
      "    WHEN '05' THEN 'may'\n",
      "    WHEN '06' THEN 'jun'\n",
      "    WHEN '07' THEN 'jul'\n",
      "    WHEN '08' THEN 'ago'\n",
      "    WHEN '09' THEN 'sep'\n",
      "    WHEN '10' THEN 'oct'\n",
      "    WHEN '11' THEN 'nov'\n",
      "    WHEN '12' THEN 'dic'\n",
      "    END,\n",
      "    ToString(fecha,'MM'),\n",
      "    ToString(fecha,'M');\n"
     ]
    }
   ],
   "source": [
    "%%pig\n",
    "file = FOREACH u GENERATE ToDate(birthday,'yyyy-MM-dd') AS fecha;\n",
    "file = FOREACH file GENERATE fecha, \n",
    "    CASE ToString(fecha,'MM')\n",
    "    WHEN '01' THEN 'ene'\n",
    "    WHEN '02' THEN 'feb'\n",
    "    WHEN '03' THEN 'mar'\n",
    "    WHEN '04' THEN 'abr'\n",
    "    WHEN '05' THEN 'may'\n",
    "    WHEN '06' THEN 'jun'\n",
    "    WHEN '07' THEN 'jul'\n",
    "    WHEN '08' THEN 'ago'\n",
    "    WHEN '09' THEN 'sep'\n",
    "    WHEN '10' THEN 'oct'\n",
    "    WHEN '11' THEN 'nov'\n",
    "    WHEN '12' THEN 'dic'\n",
    "    END,\n",
    "    ToString(fecha,'MM'),\n",
    "    ToString(fecha,'M');"
   ]
  },
  {
   "cell_type": "code",
   "execution_count": 25,
   "metadata": {},
   "outputs": [
    {
     "name": "stdout",
     "output_type": "stream",
     "text": [
      " file = FOREACH u GENERATE $3,ToDate($3,'yyyy-MM-dd');\n",
      " file = FOREACH file GENERATE $0, \n",
      "    CASE ToString($1,'MM')\n",
      "    WHEN '01' THEN 'ene'\n",
      "    WHEN '02' THEN 'feb'\n",
      "    WHEN '03' THEN 'mar'\n",
      "    WHEN '04' THEN 'abr'\n",
      "    WHEN '05' THEN 'may'\n",
      "    WHEN '06' THEN 'jun'\n",
      "    WHEN '07' THEN 'jul'\n",
      "    WHEN '08' THEN 'ago'\n",
      "    WHEN '09' THEN 'sep'\n",
      "    WHEN '10' THEN 'oct'\n",
      "    WHEN '11' THEN 'nov'\n",
      "    WHEN '12' THEN 'dic'\n",
      "    END,\n",
      "    ToString($1,'MM'),\n",
      "    ToString($1,'M');\n"
     ]
    }
   ],
   "source": [
    "%%pig\n",
    "file = FOREACH u GENERATE $3,ToDate($3,'yyyy-MM-dd');\n",
    "file = FOREACH file GENERATE $0, \n",
    "    CASE ToString($1,'MM')\n",
    "    WHEN '01' THEN 'ene'\n",
    "    WHEN '02' THEN 'feb'\n",
    "    WHEN '03' THEN 'mar'\n",
    "    WHEN '04' THEN 'abr'\n",
    "    WHEN '05' THEN 'may'\n",
    "    WHEN '06' THEN 'jun'\n",
    "    WHEN '07' THEN 'jul'\n",
    "    WHEN '08' THEN 'ago'\n",
    "    WHEN '09' THEN 'sep'\n",
    "    WHEN '10' THEN 'oct'\n",
    "    WHEN '11' THEN 'nov'\n",
    "    WHEN '12' THEN 'dic'\n",
    "    END,\n",
    "    ToString($1,'MM'),\n",
    "    ToString($1,'M');"
   ]
  },
  {
   "cell_type": "code",
   "execution_count": 26,
   "metadata": {},
   "outputs": [
    {
     "name": "stdout",
     "output_type": "stream",
     "text": [
      " DUMP file;\n",
      "2020-01-31 03:57:45,176 [main] INFO  org.apache.hadoop.yarn.client.RMProxy - Connecting to ResourceManager at /0.0.0.0:8032\n",
      "2020-01-31 03:57:45,729 [main] INFO  org.apache.hadoop.conf.Configuration.deprecation - mapred.job.reduce.markreset.buffer.percent is deprecated. Instead, use mapreduce.reduce.markreset.buffer.percent\n",
      "2020-01-31 03:57:45,738 [main] INFO  org.apache.hadoop.conf.Configuration.deprecation - mapred.output.compress is deprecated. Instead, use mapreduce.output.fileoutputformat.compress\n",
      "2020-01-31 03:57:45,765 [main] INFO  org.apache.hadoop.conf.Configuration.deprecation - mapred.submit.replication is deprecated. Instead, use mapreduce.client.submit.file.replication\n",
      "2020-01-31 03:57:46,615 [main] INFO  org.apache.hadoop.conf.Configuration.deprecation - mapred.job.tracker.http.address is deprecated. Instead, use mapreduce.jobtracker.http.address\n",
      "2020-01-31 03:57:46,637 [JobControl] INFO  org.apache.hadoop.yarn.client.RMProxy - Connecting to ResourceManager at /0.0.0.0:8032\n",
      "2020-01-31 03:57:46,694 [JobControl] INFO  org.apache.hadoop.conf.Configuration.deprecation - mapred.task.id is deprecated. Instead, use mapreduce.task.attempt.id\n",
      "2020-01-31 03:57:46,919 [JobControl] WARN  org.apache.hadoop.mapreduce.JobResourceUploader - No job jar file set.  User classes may not be found. See Job or Job#setJar(String).\n",
      "2020-01-31 03:57:47,036 [JobControl] INFO  org.apache.hadoop.mapreduce.lib.input.FileInputFormat - Total input files to process : 1\n",
      "2020-01-31 03:57:47,582 [JobControl] INFO  org.apache.hadoop.mapreduce.JobSubmitter - number of splits:1\n",
      "2020-01-31 03:57:47,889 [JobControl] INFO  org.apache.hadoop.mapreduce.JobSubmitter - Submitting tokens for job: job_1580437947023_0016\n",
      "2020-01-31 03:57:48,338 [JobControl] INFO  org.apache.hadoop.mapred.YARNRunner - Job jar is not present. Not adding any jar to the list of resources.\n",
      "2020-01-31 03:57:48,494 [JobControl] INFO  org.apache.hadoop.yarn.client.api.impl.YarnClientImpl - Submitted application application_1580437947023_0016\n",
      "2020-01-31 03:57:48,571 [JobControl] INFO  org.apache.hadoop.mapreduce.Job - The url to track the job: http://07cbdbe7864d:8088/proxy/application_1580437947023_0016/\n",
      "2020-01-31 03:58:13,859 [main] INFO  org.apache.hadoop.yarn.client.RMProxy - Connecting to ResourceManager at /0.0.0.0:8032\n",
      "2020-01-31 03:58:13,873 [main] INFO  org.apache.hadoop.mapred.ClientServiceDelegate - Application state is completed. FinalApplicationStatus=SUCCEEDED. Redirecting to job history server\n",
      "2020-01-31 03:58:14,194 [main] INFO  org.apache.hadoop.yarn.client.RMProxy - Connecting to ResourceManager at /0.0.0.0:8032\n",
      "2020-01-31 03:58:14,209 [main] INFO  org.apache.hadoop.mapred.ClientServiceDelegate - Application state is completed. FinalApplicationStatus=SUCCEEDED. Redirecting to job history server\n",
      "2020-01-31 03:58:14,269 [main] INFO  org.apache.hadoop.conf.Configuration.deprecation - mapred.reduce.tasks is deprecated. Instead, use mapreduce.job.reduces\n",
      "2020-01-31 03:58:14,297 [main] INFO  org.apache.hadoop.yarn.client.RMProxy - Connecting to ResourceManager at /0.0.0.0:8032\n",
      "2020-01-31 03:58:14,305 [main] INFO  org.apache.hadoop.mapred.ClientServiceDelegate - Application state is completed. FinalApplicationStatus=SUCCEEDED. Redirecting to job history server\n",
      "2020-01-31 03:58:14,427 [main] INFO  org.apache.hadoop.yarn.client.RMProxy - Connecting to ResourceManager at /0.0.0.0:8032\n",
      "2020-01-31 03:58:14,436 [main] INFO  org.apache.hadoop.mapred.ClientServiceDelegate - Application state is completed. FinalApplicationStatus=SUCCEEDED. Redirecting to job history server\n",
      "2020-01-31 03:58:14,544 [main] INFO  org.apache.hadoop.yarn.client.RMProxy - Connecting to ResourceManager at /0.0.0.0:8032\n",
      "2020-01-31 03:58:14,552 [main] INFO  org.apache.hadoop.mapred.ClientServiceDelegate - Application state is completed. FinalApplicationStatus=SUCCEEDED. Redirecting to job history server\n",
      "2020-01-31 03:58:14,625 [main] INFO  org.apache.hadoop.yarn.client.RMProxy - Connecting to ResourceManager at /0.0.0.0:8032\n",
      "2020-01-31 03:58:14,633 [main] INFO  org.apache.hadoop.mapred.ClientServiceDelegate - Application state is completed. FinalApplicationStatus=SUCCEEDED. Redirecting to job history server\n",
      "2020-01-31 03:58:14,772 [main] INFO  org.apache.hadoop.mapreduce.lib.input.FileInputFormat - Total input files to process : 1\n",
      "(1971-07-08,jul,07,7)\n",
      "(1974-05-23,may,05,5)\n",
      "(1973-04-22,abr,04,4)\n",
      "(1975-01-29,ene,01,1)\n",
      "(1974-07-03,jul,07,7)\n",
      "(1974-10-18,oct,10,10)\n",
      "(1970-10-05,oct,10,10)\n",
      "(1969-02-24,feb,02,2)\n",
      "(1974-10-17,oct,10,10)\n",
      "(1975-02-28,feb,02,2)\n",
      "(1969-12-07,dic,12,12)\n",
      "(1973-12-24,dic,12,12)\n",
      "(1970-08-27,ago,08,8)\n",
      "(1972-12-12,dic,12,12)\n",
      "(1970-07-01,jul,07,7)\n",
      "(1974-02-11,feb,02,2)\n",
      "(1973-04-01,abr,04,4)\n",
      "(1973-04-29,abr,04,4)\n"
     ]
    }
   ],
   "source": [
    "%%pig\n",
    "DUMP file;"
   ]
  },
  {
   "cell_type": "code",
   "execution_count": 8,
   "metadata": {
    "collapsed": true,
    "jupyter": {
     "outputs_hidden": true
    }
   },
   "outputs": [
    {
     "name": "stdout",
     "output_type": "stream",
     "text": [
      " STORE file INTO 'output' USING PigStorage(',');\n",
      "2020-01-31 01:01:54,605 [main] INFO  org.apache.hadoop.conf.Configuration.deprecation - mapred.textoutputformat.separator is deprecated. Instead, use mapreduce.output.textoutputformat.separator\n",
      "2020-01-31 01:01:54,731 [main] INFO  org.apache.hadoop.yarn.client.RMProxy - Connecting to ResourceManager at /0.0.0.0:8032\n",
      "2020-01-31 01:01:54,918 [JobControl] INFO  org.apache.hadoop.yarn.client.RMProxy - Connecting to ResourceManager at /0.0.0.0:8032\n",
      "2020-01-31 01:01:54,949 [JobControl] WARN  org.apache.hadoop.mapreduce.JobResourceUploader - No job jar file set.  User classes may not be found. See Job or Job#setJar(String).\n",
      "2020-01-31 01:01:54,978 [JobControl] INFO  org.apache.hadoop.mapreduce.lib.input.FileInputFormat - Total input files to process : 1\n",
      "2020-01-31 01:01:55,011 [JobControl] INFO  org.apache.hadoop.mapreduce.JobSubmitter - number of splits:1\n",
      "2020-01-31 01:01:55,044 [JobControl] INFO  org.apache.hadoop.mapreduce.JobSubmitter - Submitting tokens for job: job_1580427875923_0022\n",
      "2020-01-31 01:01:55,048 [JobControl] INFO  org.apache.hadoop.mapred.YARNRunner - Job jar is not present. Not adding any jar to the list of resources.\n",
      "2020-01-31 01:01:55,086 [JobControl] INFO  org.apache.hadoop.yarn.client.api.impl.YarnClientImpl - Submitted application application_1580427875923_0022\n",
      "2020-01-31 01:01:55,090 [JobControl] INFO  org.apache.hadoop.mapreduce.Job - The url to track the job: http://b8e0f6136a48:8088/proxy/application_1580427875923_0022/\n",
      "2020-01-31 01:02:15,557 [main] INFO  org.apache.hadoop.yarn.client.RMProxy - Connecting to ResourceManager at /0.0.0.0:8032\n",
      "2020-01-31 01:02:15,570 [main] INFO  org.apache.hadoop.mapred.ClientServiceDelegate - Application state is completed. FinalApplicationStatus=SUCCEEDED. Redirecting to job history server\n",
      "2020-01-31 01:02:15,656 [main] INFO  org.apache.hadoop.yarn.client.RMProxy - Connecting to ResourceManager at /0.0.0.0:8032\n",
      "2020-01-31 01:02:15,664 [main] INFO  org.apache.hadoop.mapred.ClientServiceDelegate - Application state is completed. FinalApplicationStatus=SUCCEEDED. Redirecting to job history server\n",
      "2020-01-31 01:02:15,700 [main] INFO  org.apache.hadoop.yarn.client.RMProxy - Connecting to ResourceManager at /0.0.0.0:8032\n",
      "2020-01-31 01:02:15,709 [main] INFO  org.apache.hadoop.mapred.ClientServiceDelegate - Application state is completed. FinalApplicationStatus=SUCCEEDED. Redirecting to job history server\n",
      "2020-01-31 01:02:15,787 [main] INFO  org.apache.hadoop.yarn.client.RMProxy - Connecting to ResourceManager at /0.0.0.0:8032\n",
      "2020-01-31 01:02:15,791 [main] INFO  org.apache.hadoop.mapred.ClientServiceDelegate - Application state is completed. FinalApplicationStatus=SUCCEEDED. Redirecting to job history server\n",
      "2020-01-31 01:02:15,856 [main] INFO  org.apache.hadoop.yarn.client.RMProxy - Connecting to ResourceManager at /0.0.0.0:8032\n",
      "2020-01-31 01:02:15,861 [main] INFO  org.apache.hadoop.mapred.ClientServiceDelegate - Application state is completed. FinalApplicationStatus=SUCCEEDED. Redirecting to job history server\n",
      "2020-01-31 01:02:15,905 [main] INFO  org.apache.hadoop.yarn.client.RMProxy - Connecting to ResourceManager at /0.0.0.0:8032\n",
      "2020-01-31 01:02:15,913 [main] INFO  org.apache.hadoop.mapred.ClientServiceDelegate - Application state is completed. FinalApplicationStatus=SUCCEEDED. Redirecting to job history server\n"
     ]
    }
   ],
   "source": [
    "%%pig\n",
    "STORE file INTO 'output' USING PigStorage(',');"
   ]
  },
  {
   "cell_type": "code",
   "execution_count": 9,
   "metadata": {},
   "outputs": [
    {
     "name": "stdout",
     "output_type": "stream",
     "text": [
      " fs -copyToLocal output output\n"
     ]
    }
   ],
   "source": [
    "%%pig\n",
    "fs -copyToLocal output output"
   ]
  },
  {
   "cell_type": "code",
   "execution_count": 21,
   "metadata": {},
   "outputs": [],
   "source": [
    "%pig_quit"
   ]
  }
 ],
 "metadata": {
  "kernelspec": {
   "display_name": "Python 3",
   "language": "python",
   "name": "python3"
  },
  "language_info": {
   "codemirror_mode": {
    "name": "ipython",
    "version": 3
   },
   "file_extension": ".py",
   "mimetype": "text/x-python",
   "name": "python",
   "nbconvert_exporter": "python",
   "pygments_lexer": "ipython3",
   "version": "3.6.9"
  }
 },
 "nbformat": 4,
 "nbformat_minor": 4
}
