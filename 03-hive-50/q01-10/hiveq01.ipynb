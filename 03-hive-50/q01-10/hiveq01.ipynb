{
 "cells": [
  {
   "cell_type": "code",
   "execution_count": 1,
   "metadata": {},
   "outputs": [],
   "source": [
    "%load_ext bigdata\n",
    "%hive_start\n",
    "%timeout 300"
   ]
  },
  {
   "cell_type": "code",
   "execution_count": 2,
   "metadata": {},
   "outputs": [
    {
     "name": "stdout",
     "output_type": "stream",
     "text": [
      "DROP TABLE IF EXISTS data;\n",
      "OK\n",
      "Time taken: 14.42 seconds\n",
      "CREATE TABLE data (key STRING,\n",
      "                   fecha DATE,\n",
      "                   valor INT)\n",
      "ROW FORMAT DELIMITED FIELDS\n",
      "    TERMINATED BY '\\t';\n",
      "OK\n",
      "Time taken: 1.218 seconds\n"
     ]
    }
   ],
   "source": [
    "%%hive\n",
    "DROP TABLE IF EXISTS data;\n",
    "CREATE TABLE data (key STRING,\n",
    "                   fecha DATE,\n",
    "                   valor INT)\n",
    "ROW FORMAT DELIMITED FIELDS\n",
    "    TERMINATED BY '\\t';"
   ]
  },
  {
   "cell_type": "code",
   "execution_count": 3,
   "metadata": {},
   "outputs": [
    {
     "name": "stdout",
     "output_type": "stream",
     "text": [
      "LOAD DATA LOCAL INPATH 'data.tsv'\n",
      "    OVERWRITE INTO TABLE data;\n",
      "Loading data to table default.data\n",
      "OK\n",
      "Time taken: 1.356 seconds\n"
     ]
    }
   ],
   "source": [
    "%%hive\n",
    "LOAD DATA LOCAL INPATH 'data.tsv'\n",
    "    OVERWRITE INTO TABLE data;"
   ]
  },
  {
   "cell_type": "code",
   "execution_count": 4,
   "metadata": {},
   "outputs": [
    {
     "name": "stdout",
     "output_type": "stream",
     "text": [
      "CREATE TABLE word_counts\n",
      "AS\n",
      "    SELECT key, count(1) AS count\n",
      "    FROM\n",
      "        data w\n",
      "GROUP BY\n",
      "    key\n",
      "ORDER BY\n",
      "    key;\n",
      "WARNING: Hive-on-MR is deprecated in Hive 2 and may not be available in the future versions. Consider using a different execution engine (i.e. spark, tez) or using Hive 1.X releases.\n",
      "Query ID = root_20200130213704_73941136-990a-4e7c-967d-72386518bad5\n",
      "Total jobs = 2\n",
      "Launching Job 1 out of 2\n",
      "Number of reduce tasks not specified. Estimated from input data size: 1\n",
      "In order to change the average load for a reducer (in bytes):\n",
      "  set hive.exec.reducers.bytes.per.reducer=<number>\n",
      "In order to limit the maximum number of reducers:\n",
      "  set hive.exec.reducers.max=<number>\n",
      "In order to set a constant number of reducers:\n",
      "  set mapreduce.job.reduces=<number>\n",
      "Job running in-process (local Hadoop)\n",
      "2020-01-30 21:37:08,359 Stage-1 map = 100%,  reduce = 0%\n",
      "2020-01-30 21:37:09,369 Stage-1 map = 100%,  reduce = 100%\n",
      "Ended Job = job_local2020916889_0001\n",
      "Launching Job 2 out of 2\n",
      "Number of reduce tasks determined at compile time: 1\n",
      "In order to change the average load for a reducer (in bytes):\n",
      "  set hive.exec.reducers.bytes.per.reducer=<number>\n",
      "In order to limit the maximum number of reducers:\n",
      "  set hive.exec.reducers.max=<number>\n",
      "In order to set a constant number of reducers:\n",
      "  set mapreduce.job.reduces=<number>\n",
      "Job running in-process (local Hadoop)\n",
      "2020-01-30 21:37:10,982 Stage-2 map = 100%,  reduce = 100%\n",
      "Ended Job = job_local690883406_0002\n",
      "Moving data to directory file:/user/hive/warehouse/word_counts\n",
      "MapReduce Jobs Launched: \n",
      "Stage-Stage-1:  HDFS Read: 0 HDFS Write: 0 SUCCESS\n",
      "Stage-Stage-2:  HDFS Read: 0 HDFS Write: 0 SUCCESS\n",
      "Total MapReduce CPU Time Spent: 0 msec\n",
      "OK\n",
      "Time taken: 8.189 seconds\n"
     ]
    }
   ],
   "source": [
    "%%hive\n",
    "CREATE TABLE word_counts\n",
    "AS\n",
    "    SELECT key, count(1) AS count\n",
    "    FROM\n",
    "        data w\n",
    "GROUP BY\n",
    "    key\n",
    "ORDER BY\n",
    "    key;"
   ]
  },
  {
   "cell_type": "code",
   "execution_count": 5,
   "metadata": {},
   "outputs": [
    {
     "name": "stdout",
     "output_type": "stream",
     "text": [
      "SELECT * FROM word_counts LIMIT 10;\n",
      "OK\n",
      "A\t12\n",
      "B\t10\n",
      "C\t4\n",
      "D\t1\n",
      "E\t13\n",
      "Time taken: 0.261 seconds, Fetched: 5 row(s)\n"
     ]
    }
   ],
   "source": [
    "%%hive\n",
    "SELECT * FROM word_counts LIMIT 10;"
   ]
  },
  {
   "cell_type": "code",
   "execution_count": 6,
   "metadata": {},
   "outputs": [
    {
     "name": "stdout",
     "output_type": "stream",
     "text": [
      "INSERT OVERWRITE LOCAL DIRECTORY 'output'\n",
      "ROW FORMAT DELIMITED FIELDS TERMINATED BY ','\n",
      "STORED AS TEXTFILE\n",
      "SELECT * FROM word_counts;\n",
      "WARNING: Hive-on-MR is deprecated in Hive 2 and may not be available in the future versions. Consider using a different execution engine (i.e. spark, tez) or using Hive 1.X releases.\n",
      "Query ID = root_20200130213745_a7808600-29ce-4ce8-a728-5d13caefb617\n",
      "Total jobs = 1\n",
      "Launching Job 1 out of 1\n",
      "Number of reduce tasks is set to 0 since there's no reduce operator\n",
      "Job running in-process (local Hadoop)\n",
      "2020-01-30 21:37:47,093 Stage-1 map = 100%,  reduce = 0%\n",
      "Ended Job = job_local1587030843_0003\n",
      "Moving data to local directory output\n",
      "MapReduce Jobs Launched: \n",
      "Stage-Stage-1:  HDFS Read: 0 HDFS Write: 0 SUCCESS\n",
      "Total MapReduce CPU Time Spent: 0 msec\n",
      "OK\n",
      "Time taken: 1.817 seconds\n"
     ]
    }
   ],
   "source": [
    "%%hive\n",
    "INSERT OVERWRITE LOCAL DIRECTORY 'output'\n",
    "ROW FORMAT DELIMITED FIELDS TERMINATED BY ','\n",
    "STORED AS TEXTFILE\n",
    "SELECT * FROM word_counts;"
   ]
  },
  {
   "cell_type": "code",
   "execution_count": 7,
   "metadata": {},
   "outputs": [],
   "source": [
    "%hive_quit"
   ]
  }
 ],
 "metadata": {
  "kernelspec": {
   "display_name": "Python 3",
   "language": "python",
   "name": "python3"
  },
  "language_info": {
   "codemirror_mode": {
    "name": "ipython",
    "version": 3
   },
   "file_extension": ".py",
   "mimetype": "text/x-python",
   "name": "python",
   "nbconvert_exporter": "python",
   "pygments_lexer": "ipython3",
   "version": "3.6.9"
  }
 },
 "nbformat": 4,
 "nbformat_minor": 4
}
